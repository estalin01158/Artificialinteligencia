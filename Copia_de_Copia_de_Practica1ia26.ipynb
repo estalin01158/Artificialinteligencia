{
  "nbformat": 4,
  "nbformat_minor": 0,
  "metadata": {
    "colab": {
      "provenance": [],
      "authorship_tag": "ABX9TyMAExg6DlvZ9u0p1Dfv74/0",
      "include_colab_link": true
    },
    "kernelspec": {
      "name": "python3",
      "display_name": "Python 3"
    },
    "language_info": {
      "name": "python"
    }
  },
  "cells": [
    {
      "cell_type": "markdown",
      "metadata": {
        "id": "view-in-github",
        "colab_type": "text"
      },
      "source": [
        "<a href=\"https://colab.research.google.com/github/estalin01158/Artificialinteligencia/blob/main/Copia_de_Copia_de_Practica1ia26.ipynb\" target=\"_parent\"><img src=\"https://colab.research.google.com/assets/colab-badge.svg\" alt=\"Open In Colab\"/></a>"
      ]
    },
    {
      "cell_type": "code",
      "execution_count": null,
      "metadata": {
        "colab": {
          "base_uri": "https://localhost:8080/"
        },
        "id": "eSO4QA7vBEYS",
        "outputId": "996f517f-3875-4374-8ec2-a152e7f3b608"
      },
      "outputs": [
        {
          "output_type": "stream",
          "name": "stdout",
          "text": [
            "3.10.12 (main, Nov 20 2023, 15:14:05) [GCC 11.4.0]\n"
          ]
        }
      ],
      "source": [
        "import sys\n",
        "print(sys.version)"
      ]
    },
    {
      "cell_type": "code",
      "source": [],
      "metadata": {
        "id": "-JcXU56CxJGn"
      },
      "execution_count": null,
      "outputs": []
    },
    {
      "cell_type": "code",
      "source": [],
      "metadata": {
        "id": "UG6-rugnlo0T"
      },
      "execution_count": null,
      "outputs": []
    },
    {
      "cell_type": "code",
      "source": [
        "myNumber= 3\n",
        "myNumberDecimal=3.6\n",
        "state=True"
      ],
      "metadata": {
        "id": "-z99AFFXCk-4"
      },
      "execution_count": null,
      "outputs": []
    },
    {
      "cell_type": "code",
      "source": [
        "print(f'valor entero: {myNumber }')\n",
        "print(f'valor decimal: {myNumberDecimal }')\n",
        "print('valr bool es =',state)"
      ],
      "metadata": {
        "colab": {
          "base_uri": "https://localhost:8080/"
        },
        "id": "F26NMa1FDT_m",
        "outputId": "fa20e1c1-5183-49b0-b4de-c780ebdf5580"
      },
      "execution_count": null,
      "outputs": [
        {
          "output_type": "stream",
          "name": "stdout",
          "text": [
            "valor entero: 3\n",
            "valor decimal: 3.6\n",
            "valr bool es = True\n"
          ]
        }
      ]
    },
    {
      "cell_type": "code",
      "source": [
        "aux1=10\n",
        "aux2=2\n",
        "print(\"la suma de las variables aux1 + aux2 =\",aux1+aux2)"
      ],
      "metadata": {
        "colab": {
          "base_uri": "https://localhost:8080/"
        },
        "id": "4pBUpt2JEU7Y",
        "outputId": "ed87dcae-f1a6-4832-dd5c-c33c39617d07"
      },
      "execution_count": null,
      "outputs": [
        {
          "output_type": "stream",
          "name": "stdout",
          "text": [
            "la suma de las variables aux1 + aux2 = 12\n"
          ]
        }
      ]
    },
    {
      "cell_type": "code",
      "source": [
        "aux1=10\n",
        "aux2=2\n",
        "print(\"la suma de las variables aux1 * aux2 =\",aux1*aux2)"
      ],
      "metadata": {
        "colab": {
          "base_uri": "https://localhost:8080/"
        },
        "id": "2vm4bPXaFARH",
        "outputId": "1e3bf9b1-4191-4a0b-a00f-91f21c1c72d0"
      },
      "execution_count": null,
      "outputs": [
        {
          "output_type": "stream",
          "name": "stdout",
          "text": [
            "la suma de las variables aux1 * aux2 = 20\n"
          ]
        }
      ]
    },
    {
      "cell_type": "code",
      "source": [
        "aux1=10\n",
        "aux2=2\n",
        "print(\"la suma de las variables aux1 - aux2 =\",aux1-aux2)"
      ],
      "metadata": {
        "colab": {
          "base_uri": "https://localhost:8080/"
        },
        "id": "-Z6Az0krFFGQ",
        "outputId": "49f41fa6-19f4-46e0-8250-bd46f3c156c5"
      },
      "execution_count": null,
      "outputs": [
        {
          "output_type": "stream",
          "name": "stdout",
          "text": [
            "la suma de las variables aux1 - aux2 = 8\n"
          ]
        }
      ]
    },
    {
      "cell_type": "code",
      "source": [
        "aux1=10\n",
        "aux2=2\n",
        "print(\"la suma de las variables aux1 ** aux2 =\",aux1**aux2)"
      ],
      "metadata": {
        "colab": {
          "base_uri": "https://localhost:8080/"
        },
        "id": "qgc1UwHcFvXf",
        "outputId": "bc6ff6d3-d6eb-467a-e86c-ec14239ac4f8"
      },
      "execution_count": null,
      "outputs": [
        {
          "output_type": "stream",
          "name": "stdout",
          "text": [
            "la suma de las variables aux1 ** aux2 = 100\n"
          ]
        }
      ]
    },
    {
      "cell_type": "code",
      "source": [
        "var1='hola'\n",
        "var2='!,estalin'\n",
        "\n",
        "print(var1+var2)\n"
      ],
      "metadata": {
        "colab": {
          "base_uri": "https://localhost:8080/"
        },
        "id": "zy5ZUw-7F1IH",
        "outputId": "8d33c673-9644-4d6c-a36a-3aa17457c59f"
      },
      "execution_count": null,
      "outputs": [
        {
          "output_type": "stream",
          "name": "stdout",
          "text": [
            "hola!,estalin\n"
          ]
        }
      ]
    },
    {
      "cell_type": "code",
      "source": [
        "print(3*var1)\n"
      ],
      "metadata": {
        "colab": {
          "base_uri": "https://localhost:8080/"
        },
        "id": "f1Qz7961Gi-3",
        "outputId": "665ac294-3330-4272-e371-21852675bce6"
      },
      "execution_count": null,
      "outputs": [
        {
          "output_type": "stream",
          "name": "stdout",
          "text": [
            "holaholahola\n"
          ]
        }
      ]
    },
    {
      "cell_type": "code",
      "source": [
        "num1=10\n",
        "num2=10.5"
      ],
      "metadata": {
        "id": "l7pqa9EGGqiH"
      },
      "execution_count": null,
      "outputs": []
    },
    {
      "cell_type": "code",
      "source": [
        "print('the type of the num1 is: ',type(num1))\n",
        "print('the type of the num1 is: ',type(num2))"
      ],
      "metadata": {
        "colab": {
          "base_uri": "https://localhost:8080/"
        },
        "id": "KhXazcGfG7ZO",
        "outputId": "3647b074-d013-4ff8-d8bc-1d74e4723b79"
      },
      "execution_count": null,
      "outputs": [
        {
          "output_type": "stream",
          "name": "stdout",
          "text": [
            "the type of the num1 is:  <class 'int'>\n",
            "the type of the num1 is:  <class 'float'>\n"
          ]
        }
      ]
    },
    {
      "cell_type": "code",
      "source": [
        "\n",
        "#TUESDAY 24 JUNE 2024\n"
      ],
      "metadata": {
        "id": "NyFpphiElp41"
      },
      "execution_count": null,
      "outputs": []
    },
    {
      "cell_type": "code",
      "source": [
        "tmp=list()\n",
        "tmp.append(2)\n",
        "print(tmp)\n",
        "tmp.append('estalin')\n",
        "print(tmp)\n",
        "tmp.append('toledo')\n",
        "print(tmp)\n",
        "tmp.append(10)\n",
        "print(tmp)\n",
        "print(tmp[3])\n",
        "aux=tmp[2]\n",
        "#aux.capitalize()\n",
        "#print(aux.capitalize())\n",
        "print(aux.upper())\n",
        "tmp1='hello'\n",
        "print(tmp1.capitalize())\n",
        "\n",
        "aux1=[1,2,3,4,5,6,7,8,9,10]\n",
        "print(aux1)\n",
        "aux1[4]=10\n",
        "print(aux1)\n",
        "print(aux1[-1])\n",
        "print(aux1[3:7])\n",
        "print(aux1[0:4])\n",
        "print(aux1[:5])\n",
        "\n",
        "aux2=list()\n",
        "for i in range(100):\n",
        "  aux2.append(i)\n",
        "print(aux2[:20])\n",
        "\n",
        "aux3=list()\n",
        "for indx, elem in enumerate(aux2):\n",
        "  if aux2[indx]%2==0:\n",
        "    aux3.append(aux2[indx])\n",
        "print(aux3)\n",
        "\n",
        "aux3=list()\n",
        "for indx, elem in enumerate(aux2):\n",
        "  if aux2[indx]%2==1:\n",
        "    aux3.append(aux2[indx])\n",
        "print(aux3)\n",
        "\n",
        "aux3=list()\n",
        "for indx, elem in enumerate(aux2):\n",
        "  if aux2[indx]%2==0:\n",
        "    aux3.append(aux2[indx]**2)\n",
        "print(aux3)\n",
        "\n",
        "animals=['cat','dog','monky','rabbit']\n",
        "for animal in animals:\n",
        "  print(animal)\n",
        "\n",
        "  tmp3=[ i**2 for i in range(10)]\n",
        "  print(tmp3)\n",
        "\n",
        "  print(tmp3)"
      ],
      "metadata": {
        "colab": {
          "base_uri": "https://localhost:8080/"
        },
        "id": "UA1Ue1eKr_az",
        "outputId": "fb50b858-55b6-483c-8c03-b399246db194"
      },
      "execution_count": null,
      "outputs": [
        {
          "output_type": "stream",
          "name": "stdout",
          "text": [
            "[2]\n",
            "[2, 'estalin']\n",
            "[2, 'estalin', 'toledo']\n",
            "[2, 'estalin', 'toledo', 10]\n",
            "10\n",
            "TOLEDO\n",
            "Hello\n",
            "[1, 2, 3, 4, 5, 6, 7, 8, 9, 10]\n",
            "[1, 2, 3, 4, 10, 6, 7, 8, 9, 10]\n",
            "10\n",
            "[4, 10, 6, 7]\n",
            "[1, 2, 3, 4]\n",
            "[1, 2, 3, 4, 10]\n",
            "[0, 1, 2, 3, 4, 5, 6, 7, 8, 9, 10, 11, 12, 13, 14, 15, 16, 17, 18, 19]\n",
            "[0, 2, 4, 6, 8, 10, 12, 14, 16, 18, 20, 22, 24, 26, 28, 30, 32, 34, 36, 38, 40, 42, 44, 46, 48, 50, 52, 54, 56, 58, 60, 62, 64, 66, 68, 70, 72, 74, 76, 78, 80, 82, 84, 86, 88, 90, 92, 94, 96, 98]\n",
            "[1, 3, 5, 7, 9, 11, 13, 15, 17, 19, 21, 23, 25, 27, 29, 31, 33, 35, 37, 39, 41, 43, 45, 47, 49, 51, 53, 55, 57, 59, 61, 63, 65, 67, 69, 71, 73, 75, 77, 79, 81, 83, 85, 87, 89, 91, 93, 95, 97, 99]\n",
            "[0, 4, 16, 36, 64, 100, 144, 196, 256, 324, 400, 484, 576, 676, 784, 900, 1024, 1156, 1296, 1444, 1600, 1764, 1936, 2116, 2304, 2500, 2704, 2916, 3136, 3364, 3600, 3844, 4096, 4356, 4624, 4900, 5184, 5476, 5776, 6084, 6400, 6724, 7056, 7396, 7744, 8100, 8464, 8836, 9216, 9604]\n",
            "cat\n",
            "[0, 1, 4, 9, 16, 25, 36, 49, 64, 81]\n",
            "[0, 1, 4, 9, 16, 25, 36, 49, 64, 81]\n",
            "dog\n",
            "[0, 1, 4, 9, 16, 25, 36, 49, 64, 81]\n",
            "[0, 1, 4, 9, 16, 25, 36, 49, 64, 81]\n",
            "monky\n",
            "[0, 1, 4, 9, 16, 25, 36, 49, 64, 81]\n",
            "[0, 1, 4, 9, 16, 25, 36, 49, 64, 81]\n",
            "rabbit\n",
            "[0, 1, 4, 9, 16, 25, 36, 49, 64, 81]\n",
            "[0, 1, 4, 9, 16, 25, 36, 49, 64, 81]\n"
          ]
        }
      ]
    },
    {
      "cell_type": "code",
      "source": [],
      "metadata": {
        "id": "faAW_NBJvfSb"
      },
      "execution_count": null,
      "outputs": []
    },
    {
      "cell_type": "code",
      "source": [],
      "metadata": {
        "colab": {
          "base_uri": "https://localhost:8080/"
        },
        "id": "mCXF1PAZsriD",
        "outputId": "91aa05b8-89d1-4162-da86-b0c7dbcc6638"
      },
      "execution_count": null,
      "outputs": [
        {
          "output_type": "stream",
          "name": "stdout",
          "text": [
            "[0, 2, 4, 6, 8, 10, 12, 14, 16, 18, 20, 22, 24, 26, 28, 30, 32, 34, 36, 38, 40, 42, 44, 46, 48, 50, 52, 54, 56, 58, 60, 62, 64, 66, 68, 70, 72, 74, 76, 78, 80, 82, 84, 86, 88, 90, 92, 94, 96, 98]\n"
          ]
        }
      ]
    },
    {
      "cell_type": "code",
      "source": [
        "myDictionary={'cat':'cute','dog':'big','pollo':'amariilo'}\n",
        "print(myDictionary[ 'pollo'])\n",
        "myDictAux={'cat':'cute','dog':'big','pollo':'amariilo'}\n",
        "myDictionary.update(myDictAux)\n",
        "print(myDictionary)\n",
        "for key, value in myDictionary.items():\n",
        "  print(f'{key} value: {value}')\n",
        "\n",
        "  myList=[1,2,3,4,5,6 ]\n",
        "  myDictionaryAux1={x:x**2 for x in myList}\n",
        "  print(myDictionaryAux1)\n"
      ],
      "metadata": {
        "colab": {
          "base_uri": "https://localhost:8080/"
        },
        "id": "5iqxMfeXvkP7",
        "outputId": "89eab0fc-f0bc-48a6-8aa9-ab113c6170f0"
      },
      "execution_count": null,
      "outputs": [
        {
          "output_type": "stream",
          "name": "stdout",
          "text": [
            "amariilo\n",
            "{'cat': 'cute', 'dog': 'big', 'pollo': 'amariilo'}\n",
            "cat value: cute\n",
            "{1: 1, 2: 4, 3: 9, 4: 16, 5: 25, 6: 36}\n",
            "dog value: big\n",
            "{1: 1, 2: 4, 3: 9, 4: 16, 5: 25, 6: 36}\n",
            "pollo value: amariilo\n",
            "{1: 1, 2: 4, 3: 9, 4: 16, 5: 25, 6: 36}\n"
          ]
        }
      ]
    },
    {
      "cell_type": "code",
      "source": [
        "def suma(var1,var2,flag):\n",
        "  if flag==True:\n",
        "    tmp=var1+var2\n",
        "  else:\n",
        "    tmp=var1-var2\n",
        "    resta\n",
        "  return tmp\n",
        "  pass\n",
        "\n",
        "\n",
        "num1=3\n",
        "num2=7\n",
        "control=True\n",
        "print(suma(num1,num2,control))"
      ],
      "metadata": {
        "colab": {
          "base_uri": "https://localhost:8080/"
        },
        "id": "2wMj9oau4KI1",
        "outputId": "fe6167db-2e9d-4da8-eb56-0d55a2133e1b"
      },
      "execution_count": null,
      "outputs": [
        {
          "output_type": "stream",
          "name": "stdout",
          "text": [
            "10\n"
          ]
        }
      ]
    },
    {
      "cell_type": "code",
      "source": [
        "listNumeros=[-1,+2,0 ]\n",
        "\n",
        "def signo(mynumero):\n",
        " if numero>0:\n",
        "   return\"positivo\"\n",
        " elif numero <0:\n",
        "     return\"negativo\"\n",
        " else:\n",
        "     return\"no tiene signo\"\n",
        "for numero in listNumeros:\n",
        " print(f\"el numero {numero} es {signo(numero)}\")\n"
      ],
      "metadata": {
        "colab": {
          "base_uri": "https://localhost:8080/"
        },
        "id": "XISly63Z623f",
        "outputId": "0dde3fe2-6ec2-43ab-c216-caa147039a65"
      },
      "execution_count": null,
      "outputs": [
        {
          "output_type": "stream",
          "name": "stdout",
          "text": [
            "el numero -1 es negativo\n",
            "el numero 2 es positivo\n",
            "el numero 0 es no tiene signo\n"
          ]
        }
      ]
    },
    {
      "cell_type": "code",
      "source": [
        "#SET AS A CONTAINER\n",
        "var1=set()\n",
        "var1.add(3)\n",
        "print(var1)\n",
        "var1.add('carlos')\n",
        "var1.add(True)\n",
        "print(var1)\n",
        "var1.add(5)\n",
        "print(var1)\n",
        "var1.remove('carlos')\n",
        "print(len(var1))\n",
        "\n",
        "print(3 in var1)\n",
        "\n",
        "for elem in var1:\n",
        "  print(elem)"
      ],
      "metadata": {
        "colab": {
          "base_uri": "https://localhost:8080/"
        },
        "id": "Vpb4RxdWxKA1",
        "outputId": "1e0c2cce-71b4-4ecd-af4e-62a734adef4c"
      },
      "execution_count": null,
      "outputs": [
        {
          "output_type": "stream",
          "name": "stdout",
          "text": [
            "{3}\n",
            "{True, 'carlos', 3}\n",
            "{True, 'carlos', 3, 5}\n",
            "3\n",
            "True\n",
            "True\n",
            "3\n",
            "5\n"
          ]
        }
      ]
    },
    {
      "cell_type": "code",
      "source": [
        "#TUPLES\n",
        "var2=tuple()\n",
        "var=(1,2,3,4,5)\n",
        "print(type(var))\n",
        "var_modificada = var[:3] + (11,) + var[4:]\n",
        "print(var_modificada)\n",
        "\n",
        "aux=list(var)\n",
        "print(type(aux))\n",
        "\n",
        "aux[ 2]=300\n",
        "var=tuple(aux)\n",
        "print(var)\n",
        "print(type(var))"
      ],
      "metadata": {
        "colab": {
          "base_uri": "https://localhost:8080/"
        },
        "id": "G7nEHOKozWHm",
        "outputId": "deffdc17-6105-463e-f459-47d62134b953"
      },
      "execution_count": null,
      "outputs": [
        {
          "output_type": "stream",
          "name": "stdout",
          "text": [
            "<class 'tuple'>\n",
            "(1, 2, 3, 11, 5)\n",
            "<class 'list'>\n",
            "(1, 2, 300, 4, 5)\n",
            "<class 'tuple'>\n"
          ]
        }
      ]
    },
    {
      "cell_type": "code",
      "source": [
        "from typing_extensions import Self\n",
        "#HOY TO DEFINE A CLASS\n",
        "class saludo(object):\n",
        " def __init__(self,name):\n",
        "   print(\"el objeti ha sido creado\")\n",
        "   self.name=name\n",
        "\n",
        " def saludoPersonal(self):\n",
        "    return f\"hola,{self.name}\"\n",
        "\n",
        "\n",
        "\n",
        "name1=saludo('estalin')\n",
        "name2=saludo('juan')\n",
        "name3=saludo('fernando')\n",
        "\n",
        "print(name1.saludoPersonal())\n",
        "print(name2.saludoPersonal())\n",
        "print(name3.saludoPersonal())"
      ],
      "metadata": {
        "colab": {
          "base_uri": "https://localhost:8080/"
        },
        "id": "hDQ5ISL_2ag1",
        "outputId": "2acb4224-eea1-4ac6-e21a-1998814b4415"
      },
      "execution_count": null,
      "outputs": [
        {
          "output_type": "stream",
          "name": "stdout",
          "text": [
            "el objeti ha sido creado\n",
            "el objeti ha sido creado\n",
            "el objeti ha sido creado\n",
            "hola,estalin\n",
            "hola,juan\n",
            "hola,fernando\n"
          ]
        }
      ]
    },
    {
      "cell_type": "code",
      "source": [
        "class circulo():\n",
        "  def __init__(self, radio):\n",
        "        self.radio = radio\n",
        "  def calcular_area(self):\n",
        "        area = 3.14159 * (self.radio ** 2)\n",
        "        return area\n",
        "\n",
        "circulo1 = circulo(5)\n",
        "area_circulo = circulo1.calcular_area()\n",
        "print(f\"El área del círculo con radio {circulo1.radio} es: {area_circulo}\")"
      ],
      "metadata": {
        "colab": {
          "base_uri": "https://localhost:8080/"
        },
        "id": "rAym_rh155Vk",
        "outputId": "be22abee-4421-43a8-83f2-91b9dfed9746"
      },
      "execution_count": null,
      "outputs": [
        {
          "output_type": "stream",
          "name": "stdout",
          "text": [
            "El área del círculo con radio 5 es: 78.53975\n"
          ]
        }
      ]
    },
    {
      "cell_type": "code",
      "source": [
        "#CLASS\n",
        "\n",
        "import math\n",
        "\n",
        "class figuraGeometrica:\n",
        "  def __init__(self,radio,base,altura):\n",
        "    self.radio=radio\n",
        "    self.base=base\n",
        "    self.altura=altura\n",
        "\n",
        "  def calcularAreaCirculo(self):\n",
        "      areaCirculo = math.pi * self.radio **2\n",
        "      return areaCirculo\n",
        "\n",
        "figura = figuraGeometrica(radio=5, base=6, altura=4)\n",
        "areaCirculo = figura.calcularAreaCirculo()\n",
        "print(f'{areaCirculo:.2f}')\n",
        "\n"
      ],
      "metadata": {
        "colab": {
          "base_uri": "https://localhost:8080/"
        },
        "id": "4JuLtAit8Iij",
        "outputId": "002772da-9e76-41a5-ce42-0001aa0f6741"
      },
      "execution_count": null,
      "outputs": [
        {
          "output_type": "stream",
          "name": "stdout",
          "text": [
            "78.54\n"
          ]
        }
      ]
    },
    {
      "cell_type": "code",
      "source": [
        "class printingNameAge(object):\n",
        "  def __init__(self,name,age):\n",
        "    self.name=name\n",
        "    self.age=age\n",
        "  def printUpper\n",
        "\n",
        "student1=printingNameAge('estalin',23)\n",
        "\n",
        "print(student1.name)\n",
        "print(student1.age)"
      ],
      "metadata": {
        "colab": {
          "base_uri": "https://localhost:8080/"
        },
        "id": "IiA54A3x_m2b",
        "outputId": "c85b28f2-9ea3-412a-fc65-ec2bb4e8c72c"
      },
      "execution_count": null,
      "outputs": [
        {
          "output_type": "stream",
          "name": "stdout",
          "text": [
            "estalin\n",
            "23\n"
          ]
        }
      ]
    },
    {
      "cell_type": "code",
      "source": [
        "class imprimir(object):\n",
        "  def __init__(self,name,age):\n",
        "    print(\"everything is well!!\")\n",
        "    self.name=name\n",
        "    self.age=age\n",
        "  def uppercase(self):\n",
        "    return f\"name: {self.name.upper()} and the age: {self.age}\"\n",
        "\n",
        "student1=imprimir('estalin',23)\n",
        "\n",
        "print(student1.uppercase())\n"
      ],
      "metadata": {
        "colab": {
          "base_uri": "https://localhost:8080/"
        },
        "outputId": "f5d1d450-b9ea-491e-d7d6-91b2833d15ce",
        "id": "uz3VNjR7CvRC"
      },
      "execution_count": null,
      "outputs": [
        {
          "output_type": "stream",
          "name": "stdout",
          "text": [
            "everything is well!!\n",
            "name: ESTALIN and the age: 23\n"
          ]
        }
      ]
    },
    {
      "cell_type": "code",
      "source": [],
      "metadata": {
        "id": "BONh-yboEIXa"
      },
      "execution_count": null,
      "outputs": []
    }
  ]
}