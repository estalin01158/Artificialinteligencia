{
  "nbformat": 4,
  "nbformat_minor": 0,
  "metadata": {
    "colab": {
      "provenance": [],
      "authorship_tag": "ABX9TyNVGRJrQ+mVULwbusQOodqk",
      "include_colab_link": true
    },
    "kernelspec": {
      "name": "python3",
      "display_name": "Python 3"
    },
    "language_info": {
      "name": "python"
    }
  },
  "cells": [
    {
      "cell_type": "markdown",
      "metadata": {
        "id": "view-in-github",
        "colab_type": "text"
      },
      "source": [
        "<a href=\"https://colab.research.google.com/github/estalin01158/Artificialinteligencia/blob/main/Copia_de_Copia_de_trabajo2_2Julios.ipynb\" target=\"_parent\"><img src=\"https://colab.research.google.com/assets/colab-badge.svg\" alt=\"Open In Colab\"/></a>"
      ]
    },
    {
      "cell_type": "code",
      "execution_count": null,
      "metadata": {
        "colab": {
          "base_uri": "https://localhost:8080/"
        },
        "id": "eN6SFbY6ot6K",
        "outputId": "2f1950f0-4a14-44fa-91ee-0d7835b58f8c"
      },
      "outputs": [
        {
          "output_type": "stream",
          "name": "stdout",
          "text": [
            "[[1 5 4 5]\n",
            " [1 6 9 4]\n",
            " [6 2 2 9]]\n",
            "4.5\n",
            "4.5\n",
            "[3.75 5.   4.75]\n",
            "[2.66666667 4.33333333 5.         6.        ]\n",
            "54\n",
            "[4.5 5.  4. ]\n"
          ]
        }
      ],
      "source": [
        "import numpy as np\n",
        "a=np.random.randint(1,10,(3,4))\n",
        "print(a)\n",
        "tmp=np.mean(a)\n",
        "print(tmp)\n",
        "print(a.mean())\n",
        "tmp=a.mean(axis=1)\n",
        "print(tmp)\n",
        "tmp=a.mean(axis=0)\n",
        "print(tmp)\n",
        "\n",
        "aux=a.sum()\n",
        "print(aux)\n",
        "medianValue=np.median(a,axis=1)\n",
        "print(medianValue)\n",
        "\n"
      ]
    },
    {
      "cell_type": "code",
      "source": [
        "#sportin\n",
        "b=np.random.rand(10)\n",
        "print(b)\n",
        "print(b.shape)\n",
        "b.sort()\n",
        "print(b)\n",
        "print(b.shape)\n",
        "b.sort()\n",
        "print(b)\n"
      ],
      "metadata": {
        "colab": {
          "base_uri": "https://localhost:8080/"
        },
        "id": "355Xf43grKYe",
        "outputId": "572d6bf0-c2f1-4d70-e714-2822742b41fa"
      },
      "execution_count": null,
      "outputs": [
        {
          "output_type": "stream",
          "name": "stdout",
          "text": [
            "[0.4575919  0.65299663 0.78123893 0.83877828 0.29481902 0.6658272\n",
            " 0.28773364 0.36414764 0.23850979 0.49530506]\n",
            "(10,)\n",
            "[0.23850979 0.28773364 0.29481902 0.36414764 0.4575919  0.49530506\n",
            " 0.65299663 0.6658272  0.78123893 0.83877828]\n",
            "(10,)\n",
            "[0.23850979 0.28773364 0.29481902 0.36414764 0.4575919  0.49530506\n",
            " 0.65299663 0.6658272  0.78123893 0.83877828]\n"
          ]
        }
      ]
    },
    {
      "cell_type": "code",
      "source": [
        "c=np.array([2,3,4,2,5,3,5])\n",
        "print(np.unique(c))"
      ],
      "metadata": {
        "colab": {
          "base_uri": "https://localhost:8080/"
        },
        "id": "g9yqyDjTr0VH",
        "outputId": "3ca8f8fc-206b-4251-89ad-ff039b9f83c6"
      },
      "execution_count": null,
      "outputs": [
        {
          "output_type": "stream",
          "name": "stdout",
          "text": [
            "[2 3 4 5]\n"
          ]
        }
      ]
    },
    {
      "cell_type": "code",
      "source": [
        "string1=np.array=(['desk','chair','bulb'])\n",
        "string2=np.array=(['lamp','bulb','chair'])\n",
        "tmp1=np.intersect1d(string1,string2)\n",
        "print(tmp1)\n",
        "tmp2=np.union1d(string1,string2)\n",
        "print(tmp2)\n",
        "tmp3=np.setdiff1d(string1,string2)\n",
        "print(tmp3)\n",
        "tmp4=np.in1d(string1,string2)\n",
        "print(tmp4)"
      ],
      "metadata": {
        "colab": {
          "base_uri": "https://localhost:8080/"
        },
        "id": "7zTToX1ZsSwX",
        "outputId": "62c2c689-e4b3-472c-b186-ed9f5d5e39f7"
      },
      "execution_count": null,
      "outputs": [
        {
          "output_type": "stream",
          "name": "stdout",
          "text": [
            "['bulb' 'chair']\n",
            "['bulb' 'chair' 'desk' 'lamp']\n",
            "['desk']\n",
            "[False  True  True]\n"
          ]
        }
      ]
    },
    {
      "cell_type": "code",
      "source": [
        "#BROADCAST\n",
        "import numpy as np\n",
        "aux=np.zeros((4,3))\n",
        "print(aux)\n",
        "replicate=np.array([1,2,1])\n",
        "aux=aux+replicate\n",
        "print(aux)\n",
        "replicateCol=np.array([10,10,10])\n",
        "print(replicateCol.shape)\n",
        "replicateCol=np.reshape(replicateCol,(3,1))\n",
        "print(replicateCol.shape)\n",
        "aux=np.zeros([3,3])\n",
        "aux1=replicateCol+aux\n",
        "print(aux1)"
      ],
      "metadata": {
        "colab": {
          "base_uri": "https://localhost:8080/"
        },
        "id": "oN-SH-s-wsyf",
        "outputId": "ee78fa19-e476-4ff2-91c4-4878681268ab"
      },
      "execution_count": null,
      "outputs": [
        {
          "output_type": "stream",
          "name": "stdout",
          "text": [
            "[[0. 0. 0.]\n",
            " [0. 0. 0.]\n",
            " [0. 0. 0.]\n",
            " [0. 0. 0.]]\n",
            "[[1. 2. 1.]\n",
            " [1. 2. 1.]\n",
            " [1. 2. 1.]\n",
            " [1. 2. 1.]]\n",
            "(3,)\n",
            "(3, 1)\n",
            "[[10. 10. 10.]\n",
            " [10. 10. 10.]\n",
            " [10. 10. 10.]]\n"
          ]
        }
      ]
    }
  ]
}