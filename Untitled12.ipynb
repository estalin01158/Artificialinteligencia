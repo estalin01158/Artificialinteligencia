{
  "nbformat": 4,
  "nbformat_minor": 0,
  "metadata": {
    "colab": {
      "provenance": [],
      "authorship_tag": "ABX9TyPsH3gSd/sAz5pzqDWS/gT+",
      "include_colab_link": true
    },
    "kernelspec": {
      "name": "python3",
      "display_name": "Python 3"
    },
    "language_info": {
      "name": "python"
    }
  },
  "cells": [
    {
      "cell_type": "markdown",
      "metadata": {
        "id": "view-in-github",
        "colab_type": "text"
      },
      "source": [
        "<a href=\"https://colab.research.google.com/github/estalin01158/Artificialinteligencia/blob/main/Untitled12.ipynb\" target=\"_parent\"><img src=\"https://colab.research.google.com/assets/colab-badge.svg\" alt=\"Open In Colab\"/></a>"
      ]
    },
    {
      "cell_type": "code",
      "execution_count": null,
      "metadata": {
        "id": "4z5_esoG-uAA"
      },
      "outputs": [],
      "source": []
    },
    {
      "cell_type": "code",
      "execution_count": null,
      "metadata": {
        "colab": {
          "base_uri": "https://localhost:8080/"
        },
        "id": "eSO4QA7vBEYS",
        "outputId": "fb41dccc-082b-480c-e3fd-dc4dc2b4e2a5"
      },
      "outputs": [
        {
          "output_type": "stream",
          "name": "stdout",
          "text": [
            "3.10.12 (main, Nov 20 2023, 15:14:05) [GCC 11.4.0]\n"
          ]
        }
      ],
      "source": [
        "import sys\n",
        "print(sys.version)"
      ]
    },
    {
      "cell_type": "code",
      "source": [
        "import numpy as np\n",
        "matriz_1d = np.array([0, 1, 2, 3, 4, 5, 6, 7, 8, 9])\n",
        "print(matriz_1d)"
      ],
      "metadata": {
        "colab": {
          "base_uri": "https://localhost:8080/"
        },
        "id": "8vUogAtj_MZc",
        "outputId": "2c58c43a-cafc-45da-ce27-a0b04baf574a"
      },
      "execution_count": null,
      "outputs": [
        {
          "output_type": "stream",
          "name": "stdout",
          "text": [
            "[0 1 2 3 4 5 6 7 8 9]\n"
          ]
        }
      ]
    },
    {
      "cell_type": "code",
      "source": [
        "import numpy as np\n",
        "vector = np.random.rand(10)\n",
        "print(vector)\n",
        "indice_max = np.argmax(vector)\n",
        "vector[indice_max] = 0\n",
        "print(vector)"
      ],
      "metadata": {
        "colab": {
          "base_uri": "https://localhost:8080/"
        },
        "id": "3Owzd8QTANnb",
        "outputId": "9d6351b2-bdd6-4f4f-fed9-294b900044d9"
      },
      "execution_count": null,
      "outputs": [
        {
          "output_type": "stream",
          "name": "stdout",
          "text": [
            "[0.79577236 0.08989606 0.63890146 0.93743231 0.40603647 0.42683913\n",
            " 0.6544423  0.44694316 0.43605949 0.71925614]\n",
            "[0.79577236 0.08989606 0.63890146 0.         0.40603647 0.42683913\n",
            " 0.6544423  0.44694316 0.43605949 0.71925614]\n"
          ]
        }
      ]
    },
    {
      "cell_type": "code",
      "source": [
        "import numpy as np\n",
        "matriz = np.array([[1, 2, 3, 4, 5], [6, 7, 8, 9, 10]])\n",
        "print(matriz[1, 2])"
      ],
      "metadata": {
        "colab": {
          "base_uri": "https://localhost:8080/"
        },
        "id": "0VLSqnuFBIKq",
        "outputId": "f24511ae-5db4-4c77-ae0e-cea5783e40b0"
      },
      "execution_count": null,
      "outputs": [
        {
          "output_type": "stream",
          "name": "stdout",
          "text": [
            "8\n"
          ]
        }
      ]
    },
    {
      "cell_type": "code",
      "source": [
        "import numpy as np\n",
        "matriz = np.array([1, 2, 3, 4, 5, 6, 7])\n",
        "numeros_345 = matriz[2:5]\n",
        "print( numeros_345)"
      ],
      "metadata": {
        "colab": {
          "base_uri": "https://localhost:8080/"
        },
        "id": "-tVE9dl-Cibj",
        "outputId": "b75400f0-26b5-41ae-bfd5-59174c9ce207"
      },
      "execution_count": null,
      "outputs": [
        {
          "output_type": "stream",
          "name": "stdout",
          "text": [
            "[3 4 5]\n"
          ]
        }
      ]
    },
    {
      "cell_type": "code",
      "source": [
        "import numpy as np\n",
        "ultimos_4_numeros = matriz[-4:]\n",
        "print( ultimos_4_numeros)"
      ],
      "metadata": {
        "colab": {
          "base_uri": "https://localhost:8080/"
        },
        "id": "DTV-45MMDL-j",
        "outputId": "a2be61e0-0aad-4426-a1d3-137080a66cdb"
      },
      "execution_count": null,
      "outputs": [
        {
          "output_type": "stream",
          "name": "stdout",
          "text": [
            "[4 5 6 7]\n"
          ]
        }
      ]
    },
    {
      "cell_type": "code",
      "source": [],
      "metadata": {
        "id": "ySybDpPPFnya"
      },
      "execution_count": null,
      "outputs": []
    },
    {
      "cell_type": "code",
      "source": [
        "import numpy as np\n",
        "matriz_verdaderos = np.ones((3, 3), dtype=bool)\n",
        "print(matriz_verdaderos)"
      ],
      "metadata": {
        "colab": {
          "base_uri": "https://localhost:8080/"
        },
        "id": "Y6BirohKDlaN",
        "outputId": "68e4bf2a-b5cf-40f3-ea13-ada572262f7e"
      },
      "execution_count": null,
      "outputs": [
        {
          "output_type": "stream",
          "name": "stdout",
          "text": [
            "[[ True  True  True]\n",
            " [ True  True  True]\n",
            " [ True  True  True]]\n"
          ]
        }
      ]
    },
    {
      "cell_type": "code",
      "source": [
        "import numpy as np\n",
        "matriz_enteros = np.random.randint(1, 11, size=(3, 3))\n",
        "print(matriz_enteros)\n",
        "numeros_impares = matriz_enteros[matriz_enteros % 2 != 0]\n",
        "print(numeros_impares)"
      ],
      "metadata": {
        "colab": {
          "base_uri": "https://localhost:8080/"
        },
        "id": "hhJZfytVEElK",
        "outputId": "bf1704b6-58e9-4071-fd52-3bbbe07c261f"
      },
      "execution_count": null,
      "outputs": [
        {
          "output_type": "stream",
          "name": "stdout",
          "text": [
            "[[ 1  9  8]\n",
            " [ 3  9 10]\n",
            " [ 3  4  1]]\n",
            "[1 9 3 9 3 1]\n"
          ]
        }
      ]
    },
    {
      "cell_type": "code",
      "source": [
        "import numpy as np\n",
        "vector = np.arange(10, 50)\n",
        "print(vector)"
      ],
      "metadata": {
        "colab": {
          "base_uri": "https://localhost:8080/"
        },
        "id": "LjUi_VpkCX3i",
        "outputId": "53cf9054-0000-4ad4-ad0e-312df850f1b8"
      },
      "execution_count": null,
      "outputs": [
        {
          "output_type": "stream",
          "name": "stdout",
          "text": [
            "[10 11 12 13 14 15 16 17 18 19 20 21 22 23 24 25 26 27 28 29 30 31 32 33\n",
            " 34 35 36 37 38 39 40 41 42 43 44 45 46 47 48 49]\n"
          ]
        }
      ]
    },
    {
      "cell_type": "code",
      "source": [
        "import numpy as np\n",
        "vector = np.arange(10, 50)\n",
        "print(vector)\n",
        "vector_invertido = vector[::-1]\n",
        "print(vector_invertido)"
      ],
      "metadata": {
        "colab": {
          "base_uri": "https://localhost:8080/"
        },
        "id": "zXHZ_Bw1Foph",
        "outputId": "9fd00775-7250-4d6d-fbe3-608f49fdf1f5"
      },
      "execution_count": null,
      "outputs": [
        {
          "output_type": "stream",
          "name": "stdout",
          "text": [
            "[10 11 12 13 14 15 16 17 18 19 20 21 22 23 24 25 26 27 28 29 30 31 32 33\n",
            " 34 35 36 37 38 39 40 41 42 43 44 45 46 47 48 49]\n",
            "[49 48 47 46 45 44 43 42 41 40 39 38 37 36 35 34 33 32 31 30 29 28 27 26\n",
            " 25 24 23 22 21 20 19 18 17 16 15 14 13 12 11 10]\n"
          ]
        }
      ]
    },
    {
      "cell_type": "code",
      "source": [
        "import numpy as np\n",
        "matriz = np.random.randint(0, 101, size=(10, 10))\n",
        "print(matriz)\n",
        "print(np.min(matriz))\n",
        "print(np.max(matriz))"
      ],
      "metadata": {
        "colab": {
          "base_uri": "https://localhost:8080/"
        },
        "id": "ormcCN_GGHTE",
        "outputId": "ca73e399-f99c-4da4-bc98-1f0fc82187b7"
      },
      "execution_count": null,
      "outputs": [
        {
          "output_type": "stream",
          "name": "stdout",
          "text": [
            "[[  4  35  10  20  86  88  17  44  94  87]\n",
            " [ 22  60  51  94  33  45  37  26  11  67]\n",
            " [ 34  17  40  88  43  66  33  51  73  97]\n",
            " [ 98  96  32  32  49  64   7  59  56  47]\n",
            " [ 88  43  18   6  55  80   8  67  30  67]\n",
            " [ 97  66  19  33  29  66  94  76  63  80]\n",
            " [ 64  94  30  44  24  34  19  92 100  27]\n",
            " [ 42   7  34  22  38  30  63  63  11  86]\n",
            " [ 14  63  12  11  94  20  74  84  45  63]\n",
            " [ 77  50  48  77  78   4   6  66  91  17]]\n",
            "4\n",
            "100\n"
          ]
        }
      ]
    }
  ]
}